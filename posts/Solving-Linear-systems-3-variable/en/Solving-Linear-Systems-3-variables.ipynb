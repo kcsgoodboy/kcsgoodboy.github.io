{
 "cells": [
  {
   "cell_type": "markdown",
   "id": "19fd84fc-3cdb-4e05-b98b-1e766b2aace2",
   "metadata": {},
   "source": [
    "---\n",
    "title: \"Solving Linear Systems: 3 Variables\"\n",
    "date: 2023-02-02\n",
    "author: \"Chanseok Kang\"\n",
    "toc: true \n",
    "categories: [Python, Coursera, DeepLearning.AI, Math]\n",
    "title-block-banner: true\n",
    "---"
   ]
  },
  {
   "cell_type": "markdown",
   "id": "46de69ce-f0bb-4843-ab1f-00aa1a6ba284",
   "metadata": {},
   "source": [
    "## TL;DR\n",
    "\n",
    "In this notebook you will use `NumPy` linear algebra package to find the solutions to the system of linear equations. And it will Perform row reduction to bring matrix into row echelon form. We also try to find the solution for the system of linear equations using row reduced matrix and  evaluate the determinant of the matrix to see again the connection between matrix singularity and the number of solutions of the linear system. This posts summarized the lecture \"Linear Algebra for Machine Learning and Data Science\" from Coursera. "
   ]
  },
  {
   "cell_type": "markdown",
   "id": "74951afe-ce34-44af-adc0-d9f894110dab",
   "metadata": {},
   "source": [
    "## Packages\n",
    "\n",
    "Load the `NumPy` package to access its functions."
   ]
  },
  {
   "cell_type": "code",
   "execution_count": 1,
   "id": "6a2d61c1-8f3c-4ca1-a6bb-7509d9f522b5",
   "metadata": {},
   "outputs": [
    {
     "name": "stdout",
     "output_type": "stream",
     "text": [
      "NumPy version: 1.19.5\n"
     ]
    }
   ],
   "source": [
    "import numpy as np\n",
    "\n",
    "print(\"NumPy version: {}\".format(np.__version__))"
   ]
  },
  {
   "cell_type": "markdown",
   "id": "7b6fd38a-0450-43ed-ba00-4b93104599ba",
   "metadata": {},
   "source": [
    "## Representing and Solving a System of Linear Equations using Matrices"
   ]
  },
  {
   "cell_type": "markdown",
   "id": "d7413292-d2cf-4425-9dbc-361d7034453d",
   "metadata": {},
   "source": [
    "### System of Linear Equations\n",
    "\n",
    "Here is a **system of linear equations** (or **linear system**) with three equations and three unknown variables:\n",
    "\n",
    "$$\\begin{cases} \n",
    "4x_1-3x_2+x_3=-10, \\\\ 2x_1+x_2+3x_3=0, \\\\ -x_1+2x_2-5x_3=17, \\end{cases}\\tag{1}$$\n",
    "\n",
    "**To solve** this system of linear equations means to find such values of the variables $x_1$, $x_2$, $x_3$, that all of its equations are simultaneously satisfied."
   ]
  },
  {
   "cell_type": "markdown",
   "id": "06e0f48d-1a25-49e4-abaf-ef9f24d64b48",
   "metadata": {},
   "source": [
    "### Solving Systems of Linear Equations using Matrices\n",
    "\n",
    "Let's prepare to solve the linear system $(1)$ using `NumPy`. $A$ will be a matrix, each row will represent one equation in the system and each column will correspond to the variable $x_1$, $x_2$, $x_3$. And $b$ is a 1-D array of the free (right side) coefficients:"
   ]
  },
  {
   "cell_type": "code",
   "execution_count": 2,
   "id": "7391b7fc-2300-4079-bbd6-e74a5de3c05e",
   "metadata": {},
   "outputs": [
    {
     "name": "stdout",
     "output_type": "stream",
     "text": [
      "Matrix A:\n",
      "[[ 4. -3.  1.]\n",
      " [ 2.  1.  3.]\n",
      " [-1.  2. -5.]]\n",
      "\n",
      "Array b:\n",
      "[-10.   0.  17.]\n"
     ]
    }
   ],
   "source": [
    "A = np.array([\n",
    "        [4, -3, 1],\n",
    "        [2, 1, 3],\n",
    "        [-1, 2, -5]\n",
    "    ], dtype=np.dtype(float))\n",
    "\n",
    "b = np.array([-10, 0, 17], dtype=np.dtype(float))\n",
    "\n",
    "print(\"Matrix A:\")\n",
    "print(A)\n",
    "print(\"\\nArray b:\")\n",
    "print(b)"
   ]
  },
  {
   "cell_type": "markdown",
   "id": "c5691187-0872-4d3f-9e8e-fde9438a8c8b",
   "metadata": {},
   "source": [
    "Check the dimensions of $A$ and $b$ using `shape()` function:"
   ]
  },
  {
   "cell_type": "code",
   "execution_count": 3,
   "id": "ca593050-aaf3-44fc-b8e4-3012f6c26881",
   "metadata": {},
   "outputs": [
    {
     "name": "stdout",
     "output_type": "stream",
     "text": [
      "Shape of A: (3, 3)\n",
      "Shape of b: (3,)\n"
     ]
    }
   ],
   "source": [
    "print(f\"Shape of A: {np.shape(A)}\")\n",
    "print(f\"Shape of b: {np.shape(b)}\")"
   ]
  },
  {
   "cell_type": "markdown",
   "id": "17a546d5-d7a9-4d8e-9727-2ceb0ddbaeb7",
   "metadata": {},
   "source": [
    "Now use `np.linalg.solve(A, b)` function to find the solution of the system $(1)$. The result will be saved in the 1-D array $x$. The elements will correspond to the values of $x_1$, $x_2$ and $x_3$:"
   ]
  },
  {
   "cell_type": "code",
   "execution_count": 4,
   "id": "d69c736f-2cc5-43d4-b8cc-5411135dfec3",
   "metadata": {},
   "outputs": [
    {
     "name": "stdout",
     "output_type": "stream",
     "text": [
      "Solution: [ 1.  4. -2.]\n"
     ]
    }
   ],
   "source": [
    "x = np.linalg.solve(A, b)\n",
    "\n",
    "print(f\"Solution: {x}\")"
   ]
  },
  {
   "cell_type": "markdown",
   "id": "55c96996-bc72-4193-8a96-82bc7a130c99",
   "metadata": {},
   "source": [
    "Try to substitute those values of $x_1$, $x_2$ and $x_3$ into the original system of equations to check its consistency."
   ]
  },
  {
   "cell_type": "markdown",
   "id": "d92f6f3e-d995-4cbd-9f9d-42f6c968eaaf",
   "metadata": {},
   "source": [
    "### Evaluating the Determinant of a Matrix\n",
    "\n",
    "Matrix $A$ corresponding to the linear system $(1)$ is a **square matrix** - it has the same number of rows and columns. In the case of a square matrix it is possible to calculate its determinant - a real number that characterizes some properties of the matrix. A linear system containing three equations with three unknown variables will have one solution if and only if the matrix $A$ has a non-zero determinant.\n",
    "\n",
    "Let's calculate the determinant using `np.linalg.det(A)` function:"
   ]
  },
  {
   "cell_type": "code",
   "execution_count": 5,
   "id": "a31d2165-88c5-457d-b729-b9837c32f198",
   "metadata": {},
   "outputs": [
    {
     "name": "stdout",
     "output_type": "stream",
     "text": [
      "Determinant of matrix A: -60.00\n"
     ]
    }
   ],
   "source": [
    "d = np.linalg.det(A)\n",
    "\n",
    "print(f\"Determinant of matrix A: {d:.2f}\")"
   ]
  },
  {
   "cell_type": "markdown",
   "id": "ac4e090a-a09b-46f0-99b0-5c79ba8928f1",
   "metadata": {},
   "source": [
    "Please, note that its value is non-zero, as expected."
   ]
  },
  {
   "cell_type": "markdown",
   "id": "a821af61-b584-4636-9af6-5357d054a32d",
   "metadata": {},
   "source": [
    "## Solving System of Linear Equations using Row Reduction"
   ]
  },
  {
   "cell_type": "markdown",
   "id": "a83e50da-a746-4b92-87e0-8fd7d09332eb",
   "metadata": {},
   "source": [
    "### Preparation for Row Reduction\n",
    "\n",
    "You can see how easy it is to use contemporary packages to solve linear equations. However, for a deeper understanding of mathematical concepts, it is important to practice some solution techniques manually. The programming approach can still help here to reduce the number of arithmetical calculations, and focus on the method itself.\n",
    "\n",
    "Here you can practice the row reduction method for the linear system with three variables. To apply it, first, unify matrix $A$ and array $b$ into one matrix using `np.hstack()` function. Note that the shape of the originally defined array $b$ was $(3,)$, to stack it with the $(3, 3)$ matrix you need to transform it so that it has the same number of dimensions. You can use `.reshape((3, 1))` function:"
   ]
  },
  {
   "cell_type": "code",
   "execution_count": 6,
   "id": "5b3e9452-1135-4e64-8be4-7a63b72bff8f",
   "metadata": {},
   "outputs": [
    {
     "name": "stdout",
     "output_type": "stream",
     "text": [
      "[[  4.  -3.   1. -10.]\n",
      " [  2.   1.   3.   0.]\n",
      " [ -1.   2.  -5.  17.]]\n"
     ]
    }
   ],
   "source": [
    "A_system = np.hstack((A, b.reshape((3, 1))))\n",
    "\n",
    "print(A_system)"
   ]
  },
  {
   "cell_type": "markdown",
   "id": "c67de2e2-1c62-4d5f-9cde-0f64783814fd",
   "metadata": {},
   "source": [
    "### Functions for Elementary Operations\n",
    "\n",
    "Let's review **elementary operations**, which do not change the solution set of a linear system:\n",
    "\n",
    "- Multiply any row by a non-zero number\n",
    "- Add two rows and exchange one of the original rows with the result of the addition\n",
    "- Swap rows\n",
    "\n",
    "In the case of larger systems you will need to apply elementary operations multiple times. Thus, it is convenient to define the corresponding Python functions. Investigate them in the following code cells with the examples:"
   ]
  },
  {
   "cell_type": "code",
   "execution_count": 7,
   "id": "f1d74fd0-aae9-4669-b143-9cbf0c5a76bc",
   "metadata": {},
   "outputs": [
    {
     "name": "stdout",
     "output_type": "stream",
     "text": [
      "Original matrix:\n",
      "[[  4.  -3.   1. -10.]\n",
      " [  2.   1.   3.   0.]\n",
      " [ -1.   2.  -5.  17.]]\n",
      "\n",
      "Matrix after its third row is multiplied by 2:\n",
      "[[  4.  -3.   1. -10.]\n",
      " [  2.   1.   3.   0.]\n",
      " [ -2.   4. -10.  34.]]\n"
     ]
    }
   ],
   "source": [
    "# exchange row_num of the matrix M with its multiple by row_num_multiple\n",
    "# Note: for simplicity, you can drop check if  row_num_multiple has non-zero value, which makes the operation valid\n",
    "def MultiplyRow(M, row_num, row_num_multiple):\n",
    "    # .copy() function is required here to keep the original matrix without any changes\n",
    "    M_new = M.copy()\n",
    "    M_new[row_num] = M_new[row_num] * row_num_multiple\n",
    "    return M_new\n",
    "\n",
    "print(\"Original matrix:\")\n",
    "print(A_system)\n",
    "print(\"\\nMatrix after its third row is multiplied by 2:\")\n",
    "# remember that indexing in Python starts from 0, thus index 2 will correspond to the third row\n",
    "print(MultiplyRow(A_system, 2, 2))"
   ]
  },
  {
   "cell_type": "code",
   "execution_count": 8,
   "id": "c808f14a-d423-400c-a1f0-878c6f5042ec",
   "metadata": {},
   "outputs": [
    {
     "name": "stdout",
     "output_type": "stream",
     "text": [
      "Original matrix:\n",
      "[[  4.  -3.   1. -10.]\n",
      " [  2.   1.   3.   0.]\n",
      " [ -1.   2.  -5.  17.]]\n",
      "\n",
      "Matrix after exchange of the third row with the sum of itself and second row multiplied by 1/2:\n",
      "[[  4.   -3.    1.  -10. ]\n",
      " [  2.    1.    3.    0. ]\n",
      " [  0.    2.5  -3.5  17. ]]\n"
     ]
    }
   ],
   "source": [
    "# multiply row_num_1 by row_num_1_multiple and add it to the row_num_2, \n",
    "# exchanging row_num_2 of the matrix M in the result\n",
    "def AddRows(M, row_num_1, row_num_2, row_num_1_multiple):\n",
    "    M_new = M.copy()\n",
    "    M_new[row_num_2] = row_num_1_multiple * M_new[row_num_1] + M_new[row_num_2]\n",
    "    return M_new\n",
    "\n",
    "print(\"Original matrix:\")\n",
    "print(A_system)\n",
    "print(\"\\nMatrix after exchange of the third row with the sum of itself and second row multiplied by 1/2:\")\n",
    "print(AddRows(A_system, 1, 2, 1/2))"
   ]
  },
  {
   "cell_type": "code",
   "execution_count": 9,
   "id": "c73598a6-9ae0-434f-babd-1a700a40cfad",
   "metadata": {},
   "outputs": [
    {
     "name": "stdout",
     "output_type": "stream",
     "text": [
      "Original matrix:\n",
      "[[  4.  -3.   1. -10.]\n",
      " [  2.   1.   3.   0.]\n",
      " [ -1.   2.  -5.  17.]]\n",
      "\n",
      "Matrix after exchange its first and third rows:\n",
      "[[ -1.   2.  -5.  17.]\n",
      " [  2.   1.   3.   0.]\n",
      " [  4.  -3.   1. -10.]]\n"
     ]
    }
   ],
   "source": [
    "# exchange row_num_1 and row_num_2 of the matrix M\n",
    "def SwapRows(M, row_num_1, row_num_2):\n",
    "    M_new = M.copy()\n",
    "    M_new[[row_num_1, row_num_2]] = M_new[[row_num_2, row_num_1]]\n",
    "    return M_new\n",
    "\n",
    "print(\"Original matrix:\")\n",
    "print(A_system)\n",
    "print(\"\\nMatrix after exchange its first and third rows:\")\n",
    "print(SwapRows(A_system, 0, 2))"
   ]
  },
  {
   "cell_type": "markdown",
   "id": "22b06f3e-189b-4bac-88ca-9c4a4d1ecb75",
   "metadata": {},
   "source": [
    "### Row Reduction and Solution of the Linear System\n",
    "\n",
    "Now you can use the defined operations to bring the matrix into row reduced form. To do this manually, it is convenient to have $1$ or $-1$ value in the first element of the first row (the arithmetics of operations is easier then). Performing calculations in Python, won't provide much of a benefit, but it is better to do that for illustration purposes. So, let's swap the first and third rows:"
   ]
  },
  {
   "cell_type": "code",
   "execution_count": 10,
   "id": "ca3fb3ce-3791-406f-bafa-138ef23d4d7b",
   "metadata": {},
   "outputs": [
    {
     "name": "stdout",
     "output_type": "stream",
     "text": [
      "[[ -1.   2.  -5.  17.]\n",
      " [  2.   1.   3.   0.]\n",
      " [  4.  -3.   1. -10.]]\n"
     ]
    }
   ],
   "source": [
    "A_ref = SwapRows(A_system, 0, 2)\n",
    "# Note: ref is an abbreviation of the row echelon form (row reduced form)\n",
    "print(A_ref)"
   ]
  },
  {
   "cell_type": "markdown",
   "id": "b64421e3-e28b-44c1-b034-179c115d9647",
   "metadata": {},
   "source": [
    "Now you would need to make such elementary operations, that the first elements in the second and third row become equal to zero:"
   ]
  },
  {
   "cell_type": "code",
   "execution_count": 11,
   "id": "76bebb59-5b73-4577-a24c-2f715f0a00a7",
   "metadata": {},
   "outputs": [
    {
     "name": "stdout",
     "output_type": "stream",
     "text": [
      "[[ -1.   2.  -5.  17.]\n",
      " [  0.   5.  -7.  34.]\n",
      " [  4.  -3.   1. -10.]]\n"
     ]
    }
   ],
   "source": [
    "# multiply row 0 of the new matrix A_ref by 2 and add it to the row 1\n",
    "A_ref = AddRows(A_ref, 0, 1, 2)\n",
    "print(A_ref)"
   ]
  },
  {
   "cell_type": "code",
   "execution_count": 12,
   "id": "80c78992-4082-4059-9ecf-8fb7065a65c7",
   "metadata": {},
   "outputs": [
    {
     "name": "stdout",
     "output_type": "stream",
     "text": [
      "[[ -1.   2.  -5.  17.]\n",
      " [  0.   5.  -7.  34.]\n",
      " [  0.   5. -19.  58.]]\n"
     ]
    }
   ],
   "source": [
    "# multiply row 0 of the new matrix A_ref by 4 and add it to the row 2\n",
    "A_ref = AddRows(A_ref, 0, 2, 4)\n",
    "print(A_ref)"
   ]
  },
  {
   "cell_type": "markdown",
   "id": "005b48c6-6f99-4ee6-b7a9-950b5d3d8108",
   "metadata": {},
   "source": [
    "The next step will be to perform an operation by putting the second element in the third row equal to zero:"
   ]
  },
  {
   "cell_type": "code",
   "execution_count": 13,
   "id": "75d553c9-6444-45e0-afe3-289c72fb617d",
   "metadata": {},
   "outputs": [
    {
     "name": "stdout",
     "output_type": "stream",
     "text": [
      "[[ -1.   2.  -5.  17.]\n",
      " [  0.   5.  -7.  34.]\n",
      " [  0.   0. -12.  24.]]\n"
     ]
    }
   ],
   "source": [
    "# multiply row 1 of the new matrix A_ref by -1 and add it to the row 2\n",
    "A_ref = AddRows(A_ref, 1, 2, -1)\n",
    "print(A_ref)"
   ]
  },
  {
   "cell_type": "markdown",
   "id": "e7ae91d8-aaa6-4911-84d8-c1fcca7cc91b",
   "metadata": {},
   "source": [
    "It is easy now to find the value of $x_3$ from the third row, as it corresponds to the equation $-12x_3=24$. Let's divide the row by -12:"
   ]
  },
  {
   "cell_type": "code",
   "execution_count": 14,
   "id": "5737b5ab-eba9-4616-9849-582f38715ae2",
   "metadata": {},
   "outputs": [
    {
     "name": "stdout",
     "output_type": "stream",
     "text": [
      "[[-1.  2. -5. 17.]\n",
      " [ 0.  5. -7. 34.]\n",
      " [-0. -0.  1. -2.]]\n"
     ]
    }
   ],
   "source": [
    "# multiply row 2 of the new matrix A_ref by -1/12\n",
    "A_ref = MultiplyRow(A_ref, 2, -1/12)\n",
    "print(A_ref)"
   ]
  },
  {
   "cell_type": "markdown",
   "id": "3cc5a87d-1385-4201-b860-99ff9a304660",
   "metadata": {},
   "source": [
    "Now the second row of the matrix corresponds to the equation $5x_2-7x_3=34$ and the first row to the equation $-x_1+2x_2-5x_3=17$. Referring to the elements of the matrix, you can find the values of $x_2$ and $x_1$:"
   ]
  },
  {
   "cell_type": "code",
   "execution_count": 15,
   "id": "4156848c-03c6-42a7-ae45-1381d0ac190f",
   "metadata": {},
   "outputs": [
    {
     "name": "stdout",
     "output_type": "stream",
     "text": [
      "1.0 4.0 -2\n"
     ]
    }
   ],
   "source": [
    "x_3 = -2\n",
    "x_2 = (A_ref[1,3] - A_ref[1,2] * x_3) / A_ref[1,1]\n",
    "x_1 = (A_ref[0,3] - A_ref[0,2] * x_3 - A_ref[0,1] * x_2) / A_ref[0,0]\n",
    "\n",
    "print(x_1, x_2, x_3)"
   ]
  },
  {
   "cell_type": "markdown",
   "id": "d80e4c42-fe99-4820-a285-15cd4b8b417e",
   "metadata": {},
   "source": [
    "## System of Linear Equations with No Solutions\n",
    "\n",
    "Given another system of linear equations:\n",
    "\n",
    "$$\\begin{cases} \n",
    "x_1+x_2+x_3=2, \\\\ x_2-3x_3=1, \\\\ 2x_1+x_2+5x_3=0, \\end{cases}\\tag{2}$$\n",
    "\n",
    "let's find the determinant of the corresponding matrix."
   ]
  },
  {
   "cell_type": "code",
   "execution_count": 16,
   "id": "a53854d0-9b26-4c16-936f-e374374af8b9",
   "metadata": {},
   "outputs": [
    {
     "name": "stdout",
     "output_type": "stream",
     "text": [
      "Determinant of matrix A_2: 0.00\n"
     ]
    }
   ],
   "source": [
    "A_2= np.array([\n",
    "        [1, 1, 1],\n",
    "        [0, 1, -3],\n",
    "        [2, 1, 5]\n",
    "    ], dtype=np.dtype(float))\n",
    "\n",
    "b_2 = np.array([2, 1, 0], dtype=np.dtype(float))\n",
    "\n",
    "d_2 = np.linalg.det(A_2)\n",
    "\n",
    "print(f\"Determinant of matrix A_2: {d_2:.2f}\")"
   ]
  },
  {
   "cell_type": "markdown",
   "id": "c88177a6-fd48-482e-ab3b-37194c5465f4",
   "metadata": {},
   "source": [
    "It is equal to zero, thus the system cannot have one unique solution. It will have either infinitely many solutions or none. The consistency of it will depend on the free coefficients (right side coefficients). You can uncomment and run the code in the following cell to check that the `np.linalg.solve()` function will give an error due to singularity."
   ]
  },
  {
   "cell_type": "code",
   "execution_count": 17,
   "id": "208d30ef-3260-4857-9c6c-9bf809901597",
   "metadata": {},
   "outputs": [
    {
     "name": "stdout",
     "output_type": "stream",
     "text": [
      "Singular matrix\n"
     ]
    }
   ],
   "source": [
    "try:\n",
    "    x_2 = np.linalg.solve(A_2, b_2)\n",
    "except np.linalg.LinAlgError as err:\n",
    "    print(err)"
   ]
  },
  {
   "cell_type": "markdown",
   "id": "083f8da3-db40-4e33-a2ca-05bf9fd8bfd0",
   "metadata": {},
   "source": [
    "You can check the system for consistency using ranks, but this is out of scope here (you can review this topic following the [link](https://www.onlinemath4all.com/solving-system-of-linear-equations-by-rank-method.html)). For now you can perform elementary operations to see that this particular system has no solutions:"
   ]
  },
  {
   "cell_type": "code",
   "execution_count": 18,
   "id": "fbce1f60-64b7-49b3-b13d-59e9b17d7544",
   "metadata": {},
   "outputs": [
    {
     "name": "stdout",
     "output_type": "stream",
     "text": [
      "[[ 1.  1.  1.  2.]\n",
      " [ 0.  1. -3.  1.]\n",
      " [ 2.  1.  5.  0.]]\n"
     ]
    }
   ],
   "source": [
    "A_2_system = np.hstack((A_2, b_2.reshape((3, 1))))\n",
    "print(A_2_system)"
   ]
  },
  {
   "cell_type": "code",
   "execution_count": 19,
   "id": "4c0c3e2f-3d41-4e15-8e5d-19cb96c3c557",
   "metadata": {},
   "outputs": [
    {
     "name": "stdout",
     "output_type": "stream",
     "text": [
      "[[ 1.  1.  1.  2.]\n",
      " [ 0.  1. -3.  1.]\n",
      " [ 0. -1.  3. -4.]]\n"
     ]
    }
   ],
   "source": [
    "# multiply row 0 by -2 and add it to the row 1\n",
    "A_2_ref = AddRows(A_2_system, 0, 2, -2)\n",
    "print(A_2_ref)"
   ]
  },
  {
   "cell_type": "code",
   "execution_count": 20,
   "id": "f1eab500-29f4-4f42-80aa-0096ae97c4fd",
   "metadata": {},
   "outputs": [
    {
     "name": "stdout",
     "output_type": "stream",
     "text": [
      "[[ 1.  1.  1.  2.]\n",
      " [ 0.  1. -3.  1.]\n",
      " [ 0.  0.  0. -3.]]\n"
     ]
    }
   ],
   "source": [
    "# add row 1 of the new matrix A_2_ref to the row 2\n",
    "A_2_ref = AddRows(A_2_ref, 1, 2, 1)\n",
    "print(A_2_ref)"
   ]
  },
  {
   "cell_type": "markdown",
   "id": "66ab1b8f-7c9b-45e9-b9a2-d2bc04c2d232",
   "metadata": {},
   "source": [
    "The last row will correspond to the equation $0=-3$ which has no solution. Thus the whole linear system $(2)$ has no solution."
   ]
  },
  {
   "cell_type": "markdown",
   "id": "9a64b71f-ab3f-4cba-923f-bbd2b0fa2111",
   "metadata": {},
   "source": [
    "## System of Linear Equations with Infinite Number of Solutions\n",
    "\n",
    "You can bring system $(2)$ to consistency by changing only the free coefficients:\n",
    "\n",
    "$$\\begin{cases} \n",
    "x_1+x_2+x_3=2, \\\\ x_2-3x_3=1, \\\\ 2x_1+x_2+5x_3=3. \\end{cases}\\tag{3}$$\n",
    "\n",
    "Define the new array of free coefficients:"
   ]
  },
  {
   "cell_type": "code",
   "execution_count": 21,
   "id": "5caa05a6-b1e6-4189-8fe9-903202d471f5",
   "metadata": {},
   "outputs": [],
   "source": [
    "b_3 = np.array([2, 1, 3])"
   ]
  },
  {
   "cell_type": "markdown",
   "id": "8b80fd43-9d51-419a-b18b-49bf6aabd95e",
   "metadata": {},
   "source": [
    "Prepare the new matrix, corresponding to the system $(3)$:"
   ]
  },
  {
   "cell_type": "code",
   "execution_count": 22,
   "id": "75ade5dd-8105-4a5a-84b1-db41783f87d4",
   "metadata": {},
   "outputs": [
    {
     "name": "stdout",
     "output_type": "stream",
     "text": [
      "[[ 1.  1.  1.  2.]\n",
      " [ 0.  1. -3.  1.]\n",
      " [ 2.  1.  5.  3.]]\n"
     ]
    }
   ],
   "source": [
    "A_3_system = np.hstack((A_2, b_3.reshape((3, 1))))\n",
    "print(A_3_system)"
   ]
  },
  {
   "cell_type": "code",
   "execution_count": 23,
   "id": "bb77ec91-6e5a-4ca8-bfbe-8a1a3e8d2c2e",
   "metadata": {},
   "outputs": [
    {
     "name": "stdout",
     "output_type": "stream",
     "text": [
      "[[ 1.  1.  1.  2.]\n",
      " [ 0.  1. -3.  1.]\n",
      " [ 0. -1.  3. -1.]]\n"
     ]
    }
   ],
   "source": [
    "# multiply row 0 of the new matrix A_3_system by -2 and add it to the row 2\n",
    "A_3_ref = AddRows(A_3_system, 0, 2, -2)\n",
    "print(A_3_ref)"
   ]
  },
  {
   "cell_type": "code",
   "execution_count": 24,
   "id": "5e388a6a-6e6d-4d2c-812f-b9afb968ffd2",
   "metadata": {},
   "outputs": [
    {
     "name": "stdout",
     "output_type": "stream",
     "text": [
      "[[ 1.  1.  1.  2.]\n",
      " [ 0.  1. -3.  1.]\n",
      " [ 0.  0.  0.  0.]]\n"
     ]
    }
   ],
   "source": [
    "# add row 1 of the new matrix A_3_ref to the row 2\n",
    "A_3_ref = AddRows(A_3_ref, 1, 2, 1)\n",
    "print(A_3_ref)"
   ]
  },
  {
   "cell_type": "markdown",
   "id": "6b13ca7b-ee05-4208-8c7a-1c3b384a30ad",
   "metadata": {},
   "source": [
    "Thus from the corresponding linear system\n",
    "\n",
    "$$\\begin{cases} \n",
    "x_1+x_2+x_3=2, \\\\ x_2-3x_3=1, \\\\ 0=0, \\end{cases}\\tag{4}$$\n",
    "\n",
    "you can find that $x_2=1+3x_3$, substitute it into the first equation and find $x_1$. Thus the solutions of the linear system $(3)$ are:\n",
    "\n",
    "$$\\begin{cases} \n",
    "x_1=1-4x_3, \\\\ x_2=1+3x_3, \\end{cases}\\tag{5}$$\n",
    "\n",
    "where $x_3$ is any real number."
   ]
  }
 ],
 "metadata": {
  "kernelspec": {
   "display_name": "Python 3",
   "language": "python",
   "name": "python3"
  },
  "language_info": {
   "codemirror_mode": {
    "name": "ipython",
    "version": 3
   },
   "file_extension": ".py",
   "mimetype": "text/x-python",
   "name": "python",
   "nbconvert_exporter": "python",
   "pygments_lexer": "ipython3",
   "version": "3.7.10"
  }
 },
 "nbformat": 4,
 "nbformat_minor": 5
}
