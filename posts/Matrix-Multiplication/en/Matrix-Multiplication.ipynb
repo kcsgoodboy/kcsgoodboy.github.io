{
 "cells": [
  {
   "cell_type": "markdown",
   "id": "4d7569d3-491c-4520-80bc-34da1a77e9f4",
   "metadata": {},
   "source": [
    "---\n",
    "title: \"Matrix Multiplication\"\n",
    "date: 2023-02-08\n",
    "author: \"Chanseok Kang\"\n",
    "toc: true \n",
    "categories: [Python, Coursera, DeepLearning.AI, Math]\n",
    "title-block-banner: true\n",
    "---"
   ]
  },
  {
   "cell_type": "markdown",
   "id": "8a96413a-04bc-4d64-bf1b-d87d12444848",
   "metadata": {},
   "source": [
    "## TL;DR\n",
    "\n",
    "In this notebook, you will use `NumPy` functions to perform matrix multiplication and see how it can be used in the Machine Learning applications. This post is summarized the lecture \"Linear Algebra for Machine Learning and Data Science\" from Coursera. "
   ]
  },
  {
   "cell_type": "markdown",
   "id": "3ebe218a-7a58-4c2b-93d9-9babccd3ed3e",
   "metadata": {},
   "source": [
    "## Packages\n",
    "\n",
    "Load the `NumPy` package to access its functions."
   ]
  },
  {
   "cell_type": "code",
   "execution_count": 1,
   "id": "7decd915-fc2e-4214-ab03-e4c100115ee4",
   "metadata": {},
   "outputs": [
    {
     "name": "stdout",
     "output_type": "stream",
     "text": [
      "NumPy version:  1.21.5\n"
     ]
    }
   ],
   "source": [
    "import numpy as np\n",
    "\n",
    "print(\"NumPy version: \", np.__version__)"
   ]
  },
  {
   "cell_type": "markdown",
   "id": "0b5c4033-7ca4-4e01-b8ed-f2f751a58592",
   "metadata": {},
   "source": [
    "## Definition of Matrix Multiplication\n",
    "\n",
    "If $A$ is an $m \\times n$ matrix and $B$ is an $n \\times p$ matrix, the matrix product $C = AB$ (denoted without multiplication signs or dots) is defined to be the $m \\times p$ matrix such that \n",
    "$c_{ij}=a_{i1}b_{1j}+a_{i2}b_{2j}+\\ldots+a_{in}b_{nj}=\\sum_{k=1}^{n} a_{ik}b_{kj}, \\tag{4}$\n",
    "\n",
    "where $a_{ik}$ are the elements of matrix $A$, $b_{kj}$ are the elements of matrix $B$, and $i = 1, \\ldots, m$, $k=1, \\ldots, n$, $j = 1, \\ldots, p$. In other words, $c_{ij}$ is the dot product of the $i$-th row of $A$ and the $j$-th column of $B$."
   ]
  },
  {
   "cell_type": "markdown",
   "id": "8f6f828a-758e-4588-a511-697d8a963c5d",
   "metadata": {},
   "source": [
    "## Matrix Multiplication using Python\n",
    "\n",
    "Like with the dot product, there are a few ways to perform matrix multiplication in Python. As discussed in the previous lab, the calculations are more efficient in the vectorized form. Let's discuss the most commonly used functions in the vectorized form. First, define two matrices:"
   ]
  },
  {
   "cell_type": "code",
   "execution_count": 2,
   "id": "d8353dcd-26e2-4bd3-9147-4f3f78d19659",
   "metadata": {},
   "outputs": [
    {
     "name": "stdout",
     "output_type": "stream",
     "text": [
      "Matrix A (3 by 3):\n",
      " [[4 9 9]\n",
      " [9 1 6]\n",
      " [9 2 3]]\n",
      "Matrix B (3 by 2):\n",
      " [[2 2]\n",
      " [5 7]\n",
      " [4 4]]\n"
     ]
    }
   ],
   "source": [
    "A = np.array([[4, 9, 9], [9, 1, 6], [9, 2, 3]])\n",
    "print(\"Matrix A (3 by 3):\\n\", A)\n",
    "\n",
    "B = np.array([[2, 2], [5, 7], [4, 4]])\n",
    "print(\"Matrix B (3 by 2):\\n\", B)"
   ]
  },
  {
   "cell_type": "markdown",
   "id": "8172d7e5-cfc0-4676-bc1a-0d61c0b2bd16",
   "metadata": {},
   "source": [
    "You can multiply matrices $A$ and $B$ using `NumPy` package function `np.matmul()`:"
   ]
  },
  {
   "cell_type": "code",
   "execution_count": 3,
   "id": "1e88264a-84ef-4042-aba1-69e3269e1c1a",
   "metadata": {},
   "outputs": [
    {
     "data": {
      "text/plain": [
       "array([[ 89, 107],\n",
       "       [ 47,  49],\n",
       "       [ 40,  44]])"
      ]
     },
     "execution_count": 3,
     "metadata": {},
     "output_type": "execute_result"
    }
   ],
   "source": [
    "np.matmul(A, B)"
   ]
  },
  {
   "cell_type": "markdown",
   "id": "dc591109-82e5-4741-bb1e-5a00daa2cd49",
   "metadata": {},
   "source": [
    "Which will output $3 \\times 2$ matrix as a `np.array`. Python operator `@` will also work here giving the same result:"
   ]
  },
  {
   "cell_type": "code",
   "execution_count": 4,
   "id": "be88a0fb-c542-4806-bd5a-ca7f9a0cc81c",
   "metadata": {},
   "outputs": [
    {
     "data": {
      "text/plain": [
       "array([[ 89, 107],\n",
       "       [ 47,  49],\n",
       "       [ 40,  44]])"
      ]
     },
     "execution_count": 4,
     "metadata": {},
     "output_type": "execute_result"
    }
   ],
   "source": [
    "A @ B"
   ]
  },
  {
   "cell_type": "markdown",
   "id": "edc94792-52fb-479c-9caa-64e2697db6db",
   "metadata": {},
   "source": [
    "## Matrix Convention and Broadcasting\n",
    "\n",
    "Mathematically, matrix multiplication is defined only if number of the columns of matrix $A$ is equal to the number of the rows of matrix $B$ (you can check again the definition in the section 1 and see that otherwise the dot products between rows and columns will not be defined). \n",
    "\n",
    "Thus, in the example above (section 2), changing the order of matrices when performing the multiplication $BA$ will not work as the above rule does not hold anymore. You can check it by running the cells below - both of them will give errors."
   ]
  },
  {
   "cell_type": "code",
   "execution_count": 5,
   "id": "1fb39746-f7b8-4de8-9957-a31dd26ef1c6",
   "metadata": {},
   "outputs": [
    {
     "name": "stdout",
     "output_type": "stream",
     "text": [
      "matmul: Input operand 1 has a mismatch in its core dimension 0, with gufunc signature (n?,k),(k,m?)->(n?,m?) (size 3 is different from 2)\n"
     ]
    }
   ],
   "source": [
    "try:\n",
    "    np.matmul(B, A)\n",
    "except ValueError as err:\n",
    "    print(err)"
   ]
  },
  {
   "cell_type": "code",
   "execution_count": 6,
   "id": "7303f895-dfa3-4623-8ee3-2624b5c21d59",
   "metadata": {},
   "outputs": [
    {
     "name": "stdout",
     "output_type": "stream",
     "text": [
      "matmul: Input operand 1 has a mismatch in its core dimension 0, with gufunc signature (n?,k),(k,m?)->(n?,m?) (size 3 is different from 2)\n"
     ]
    }
   ],
   "source": [
    "try:\n",
    "    B @ A\n",
    "except ValueError as err:\n",
    "    print(err)"
   ]
  },
  {
   "cell_type": "markdown",
   "id": "a0fcf5dd-5096-447b-b2ef-9d5ffc17bc79",
   "metadata": {},
   "source": [
    "So when using matrix multiplication you will need to be very careful about the dimensions - the number of the columns in the first matrix should match the number of the rows in the second matrix. This is very important for your future understanding of Neural Networks and how they work. \n",
    "\n",
    "However, for multiplying of the vectors, `NumPy` has a shortcut. You can define two vectors $x$ and $y$ of the same size (which one can understand as two $3 \\times 1$ matrices). If you check the shape of the vector $x$, you can see that :"
   ]
  },
  {
   "cell_type": "code",
   "execution_count": 7,
   "id": "c09a5dd8-3285-4e7d-b9aa-836baa43677a",
   "metadata": {},
   "outputs": [
    {
     "name": "stdout",
     "output_type": "stream",
     "text": [
      "Shape of vector x: (3,)\n",
      "Number of dimensions of vector x: 1\n",
      "Shape of vector x, reshaped to a matrix: (3, 1)\n",
      "Number of dimensions of vector x, reshaped to a matrix: 2\n"
     ]
    }
   ],
   "source": [
    "x = np.array([1, -2, -5])\n",
    "y = np.array([4, 3, -1])\n",
    "\n",
    "print(\"Shape of vector x:\", x.shape)\n",
    "print(\"Number of dimensions of vector x:\", x.ndim)\n",
    "print(\"Shape of vector x, reshaped to a matrix:\", x.reshape((3, 1)).shape)\n",
    "print(\"Number of dimensions of vector x, reshaped to a matrix:\", x.reshape((3, 1)).ndim)"
   ]
  },
  {
   "cell_type": "markdown",
   "id": "6177b45d-9e33-46d1-914f-1ecc19089bd3",
   "metadata": {},
   "source": [
    "Following the matrix convention, multiplication of matrices $3 \\times 1$ and $3 \\times 1$ is not defined. For matrix multiplication you would expect an error in the following cell, but let's check the output:"
   ]
  },
  {
   "cell_type": "code",
   "execution_count": 8,
   "id": "a34f7ab9-b6b1-4412-a4fd-d11d317fe153",
   "metadata": {},
   "outputs": [
    {
     "data": {
      "text/plain": [
       "3"
      ]
     },
     "execution_count": 8,
     "metadata": {},
     "output_type": "execute_result"
    }
   ],
   "source": [
    "np.matmul(x, y)"
   ]
  },
  {
   "cell_type": "markdown",
   "id": "bb2137b4-391d-4395-abc5-aed8ae4af04a",
   "metadata": {},
   "source": [
    "You can see that there is no error and that the result is actually a dot product $x \\cdot y\\,$! So, vector $x$ was automatically transposed into the vector $1 \\times 3$ and matrix multiplication $x^Ty$ was calculated. While this is very convenient, you need to keep in mind such functionality in Python and pay attention to not use it in a wrong way. The following cell will return an error:"
   ]
  },
  {
   "cell_type": "code",
   "execution_count": 9,
   "id": "6b9107d7-500e-49f3-865b-db9f1486c936",
   "metadata": {},
   "outputs": [
    {
     "name": "stdout",
     "output_type": "stream",
     "text": [
      "matmul: Input operand 1 has a mismatch in its core dimension 0, with gufunc signature (n?,k),(k,m?)->(n?,m?) (size 3 is different from 1)\n"
     ]
    }
   ],
   "source": [
    "try:\n",
    "    np.matmul(x.reshape((3, 1)), y.reshape((3, 1)))\n",
    "except ValueError as err:\n",
    "    print(err)"
   ]
  },
  {
   "cell_type": "markdown",
   "id": "0e81eae6-4d6c-4e48-a425-b6953ab1bd5a",
   "metadata": {},
   "source": [
    "You might have a question in you mind: does `np.dot()` function also work for matrix multiplication? Let's try it:"
   ]
  },
  {
   "cell_type": "code",
   "execution_count": 10,
   "id": "00c121a4-0017-4ee8-9541-fd054ce8bb86",
   "metadata": {},
   "outputs": [
    {
     "data": {
      "text/plain": [
       "array([[ 89, 107],\n",
       "       [ 47,  49],\n",
       "       [ 40,  44]])"
      ]
     },
     "execution_count": 10,
     "metadata": {},
     "output_type": "execute_result"
    }
   ],
   "source": [
    "np.dot(A, B)"
   ]
  },
  {
   "cell_type": "markdown",
   "id": "e67e3acf-1314-4e8a-8ce6-36b64f396f80",
   "metadata": {},
   "source": [
    "Yes, it works! What actually happens is what is called **broadcasting** in Python: `NumPy` broadcasts this dot product operation to all rows and all columns, you get the resultant product matrix. Broadcasting also works in other cases, for example:"
   ]
  },
  {
   "cell_type": "code",
   "execution_count": 11,
   "id": "73a17d94-34db-44f3-91bc-efa952ca4867",
   "metadata": {},
   "outputs": [
    {
     "data": {
      "text/plain": [
       "array([[ 2,  7,  7],\n",
       "       [ 7, -1,  4],\n",
       "       [ 7,  0,  1]])"
      ]
     },
     "execution_count": 11,
     "metadata": {},
     "output_type": "execute_result"
    }
   ],
   "source": [
    "A - 2"
   ]
  },
  {
   "cell_type": "markdown",
   "id": "0708d147-dde9-47d2-9616-0831ba6698a1",
   "metadata": {},
   "source": [
    "Mathematically, subtraction of the $3 \\times 3$ matrix $A$ and a scalar is not defined, but Python broadcasts the scalar, creating a $3 \\times 3$ `np.array` and performing subtraction element by element. A practical example of matrix multiplication can be seen in a linear regression model."
   ]
  }
 ],
 "metadata": {
  "kernelspec": {
   "display_name": "Python 3",
   "language": "python",
   "name": "python3"
  },
  "language_info": {
   "codemirror_mode": {
    "name": "ipython",
    "version": 3
   },
   "file_extension": ".py",
   "mimetype": "text/x-python",
   "name": "python",
   "nbconvert_exporter": "python",
   "pygments_lexer": "ipython3",
   "version": "3.7.10"
  }
 },
 "nbformat": 4,
 "nbformat_minor": 5
}
