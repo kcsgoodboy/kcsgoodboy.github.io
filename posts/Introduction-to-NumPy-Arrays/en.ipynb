{
 "cells": [
  {
   "cell_type": "markdown",
   "id": "d5736b8c-f4a7-46a3-8e1f-22969a331bea",
   "metadata": {},
   "source": [
    "---\n",
    "title: \"Introduction to NumPy Arrays\"\n",
    "date: 2023-01-29\n",
    "author: \"Chanseok Kang\"\n",
    "toc: true \n",
    "categories: [Python, Coursera, DeepLearning.AI, Math]\n",
    "image: ./images/MultiDimensional_arrays.png\n",
    "title-block-banner: true\n",
    "---"
   ]
  },
  {
   "cell_type": "markdown",
   "id": "7e601182-a97a-4ddb-8284-2d323c36ec90",
   "metadata": {},
   "source": [
    "## TL;DR\n",
    "\n",
    "In this notebook, you will use NumPy to create 2-D arrays and easily compute mathematical operations. [NumPy](https://numpy.org/) (Numerical Python) is an open-source package that is widely used in science and engineering. This posts summarized the lecture \"Linear Algebra for Machine Learning and Data Science\" from Coursera."
   ]
  },
  {
   "cell_type": "markdown",
   "id": "1cfe299a-636d-4bac-a6fb-fd438808ff7a",
   "metadata": {},
   "source": [
    "## About Jupyter Notebooks ##\n",
    "\n",
    "Jupyter Notebooks are interactive coding journals that integrate live code, explanatory text, equations, visualizations and other multimedia resources, all in a single document. As a first exercise, run the test snippet below and the print statement cell for \"Hello World\"."
   ]
  },
  {
   "cell_type": "code",
   "execution_count": 1,
   "id": "49238b2a-bc83-4db8-9c3e-bcd7ad132517",
   "metadata": {},
   "outputs": [],
   "source": [
    "#Run the \"Hello World\" in the cell below to print \"Hello World\". \n",
    "test = \"Hello World\""
   ]
  },
  {
   "cell_type": "code",
   "execution_count": 2,
   "id": "0c1bc87f-36d2-4259-abe1-e579c678cfe3",
   "metadata": {},
   "outputs": [
    {
     "name": "stdout",
     "output_type": "stream",
     "text": [
      "Hello World\n"
     ]
    }
   ],
   "source": [
    "print (test)"
   ]
  },
  {
   "cell_type": "markdown",
   "id": "6409acda-a557-4aa8-8e4c-44ba9f1fd7a8",
   "metadata": {},
   "source": [
    "# Basics of NumPy #\n",
    "\n",
    "NumPy is the main package for scientific computing in Python. It performs a wide variety of advanced mathematical operations with high efficiency. In this practice lab you will learn several key NumPy functions that will help you in future assignments, such as creating arrays, slicing, indexing, reshaping, and stacking."
   ]
  },
  {
   "cell_type": "markdown",
   "id": "8101e7aa-8879-4402-b076-ecbb9d83ee00",
   "metadata": {},
   "source": [
    "## Packages ##"
   ]
  },
  {
   "cell_type": "markdown",
   "id": "671f2ccd-5ab9-48f4-b68e-6dfc2ded056b",
   "metadata": {},
   "source": [
    "Before you get started, you have to import NumPy to load its functions. As you may notice, even though there is no expected output, when you run this cell, the Jupyter Notebook will have imported the package (often referred to as the library) and its functions. Try it for yourself and run the following cell."
   ]
  },
  {
   "cell_type": "code",
   "execution_count": 11,
   "id": "2836ead6-65f6-422d-ba7d-7eab2e3eda7a",
   "metadata": {},
   "outputs": [
    {
     "name": "stdout",
     "output_type": "stream",
     "text": [
      "NumPy version: 1.21.5\n"
     ]
    }
   ],
   "source": [
    "import numpy as np\n",
    "\n",
    "print(\"NumPy version: {}\".format(np.__version__))"
   ]
  },
  {
   "cell_type": "markdown",
   "id": "30917488-fe85-4403-acf1-7fbe3bf44fe6",
   "metadata": {},
   "source": [
    "## Advantages of using NumPy arrays ##"
   ]
  },
  {
   "cell_type": "markdown",
   "id": "95281a52-e171-45e1-aa00-20c5d9f0c346",
   "metadata": {},
   "source": [
    "Arrays are one of the core data structures of the NumPy library, essential for organizing your data. You can think of them as a grid of values, all of the same type. If you have used Python lists before, you may remember that they are convenient, as you can store different data types. However, Python lists are limited in functions and take up more space and time than NumPy arrays.\n",
    "\n",
    "NumPy provides an array object that is much faster and more compact than Python lists. Through its extensive API integration, the library offers many built-in functions that make computing much easier in only a few lines of code. This can be a huge advantage when performing math operations on large data. \n",
    "\n",
    "The array object in NumPy is called `ndarray` meaning **'n-dimensional array'**. To begin with, you will use one of the most common array types: the one-dimensional array ('1-D'). A 1-D array represents a standard list of values entirely in one dimension. Remember that in NumPy, all of the elements within the array are of the same type."
   ]
  },
  {
   "cell_type": "code",
   "execution_count": 4,
   "id": "c69cde28-9fdc-419d-91a4-bef4b707f4e0",
   "metadata": {},
   "outputs": [
    {
     "name": "stdout",
     "output_type": "stream",
     "text": [
      "[10 12]\n"
     ]
    }
   ],
   "source": [
    "one_dimensional_arr = np.array([10, 12])\n",
    "print(one_dimensional_arr)"
   ]
  },
  {
   "cell_type": "markdown",
   "id": "2f0e263f-e189-455e-a961-b346442a21fd",
   "metadata": {},
   "source": [
    "## How to create NumPy arrays ##"
   ]
  },
  {
   "cell_type": "markdown",
   "id": "87b10e1c-4cf9-413e-a510-67dabf51b2cd",
   "metadata": {},
   "source": [
    "There are several ways to create an array in NumPy. You can create a 1-D array by simply using the function `array()` which takes in a list of values as an argument, and returns a 1-D array."
   ]
  },
  {
   "cell_type": "code",
   "execution_count": 5,
   "id": "1d8d8e2e-6c68-4b50-90cd-5731a431e4da",
   "metadata": {},
   "outputs": [
    {
     "name": "stdout",
     "output_type": "stream",
     "text": [
      "[1 2 3]\n"
     ]
    }
   ],
   "source": [
    "# Create and print a numpy array 'a' containing the elements 1, 2, 3.\n",
    "a = np.array([1, 2, 3])\n",
    "print(a)"
   ]
  },
  {
   "cell_type": "markdown",
   "id": "efa2708e-e514-44c6-aa52-6f08e8a377f9",
   "metadata": {},
   "source": [
    "Another way to implement an array is using `numpy.arange()`. This function will return an array of evenly spaced values within a given interval. To learn more about the arguments that this function takes, there is a powerful Jupyter Notebooks feature that allows you to access any function's documentation by simply pressing `shift+tab` on your keyboard when clicking on the function. Give it a try for the built-in documentation of `arange()`. "
   ]
  },
  {
   "cell_type": "code",
   "execution_count": 6,
   "id": "9d0e71b3-dc06-45af-85a2-36f2e264d6b9",
   "metadata": {},
   "outputs": [
    {
     "name": "stdout",
     "output_type": "stream",
     "text": [
      "[0 1 2]\n"
     ]
    }
   ],
   "source": [
    "# Create an array with 3 elements, starting from default number 0.\n",
    "b = np.arange(3)\n",
    "print(b)"
   ]
  },
  {
   "cell_type": "code",
   "execution_count": 7,
   "id": "e6e7e9b3-de68-4b11-93b1-1dceb42fe561",
   "metadata": {},
   "outputs": [
    {
     "name": "stdout",
     "output_type": "stream",
     "text": [
      "[ 1  4  7 10 13 16 19]\n"
     ]
    }
   ],
   "source": [
    "# Create an array that starts from integer 1, ends at 20, incremented by 3.\n",
    "c = np.arange(1, 20, 3)\n",
    "print(c)"
   ]
  },
  {
   "cell_type": "markdown",
   "id": "b991db77-af45-4b78-8cd2-a146e6efac8b",
   "metadata": {},
   "source": [
    "What if you wanted to create an array with five evenly spaced values in the interval from 0 to 100? As you may notice, here you have 3 parameters that the array should take. The start is the number 0, the end is number 100, and 5 is the number of the elements. NumPy has a function that allows you to do specifically this by using `numpy.linspace()`."
   ]
  },
  {
   "cell_type": "code",
   "execution_count": 8,
   "id": "fb30e3a1-b422-49c2-9d05-af4bc2e57097",
   "metadata": {},
   "outputs": [
    {
     "name": "stdout",
     "output_type": "stream",
     "text": [
      "[  0.  25.  50.  75. 100.]\n"
     ]
    }
   ],
   "source": [
    "lin_spaced_arr = np.linspace(0, 100, 5)\n",
    "print(lin_spaced_arr)"
   ]
  },
  {
   "cell_type": "markdown",
   "id": "cd4dc580-1edf-4a13-b1ac-65fbcc0eb39f",
   "metadata": {},
   "source": [
    "Did you notice that the output of the function is presented in the float value form (e.g. \"0. 25. \")? The reason is that the default type for values in the numpy function is a floating point (`np.float64`). You can easily specify your data type using `dtype`. If you accessed the built-in documentation of the functions, you may have noticed that most functions take in an optional parameter `dtype`. In addition to float, Numpy has several other data types such as 'int', and 'char'. \n",
    "\n",
    "To change the type to integers, you need to set the dtype to `int`. You can do so, even with the previous functions. Feel free to try it out and modify the cells to output your prefered data type. "
   ]
  },
  {
   "cell_type": "code",
   "execution_count": 9,
   "id": "2679c351-db88-4a08-aed7-dd7af240e77a",
   "metadata": {},
   "outputs": [
    {
     "name": "stdout",
     "output_type": "stream",
     "text": [
      "[  0  25  50  75 100]\n"
     ]
    }
   ],
   "source": [
    "lin_spaced_arr_int = np.linspace(0, 100, 5, dtype=int)\n",
    "print(lin_spaced_arr_int)"
   ]
  },
  {
   "cell_type": "code",
   "execution_count": 10,
   "id": "47ae151c-fa10-440c-b565-e0563607f25e",
   "metadata": {},
   "outputs": [
    {
     "name": "stdout",
     "output_type": "stream",
     "text": [
      "[ 1  4  7 10 13 16 19]\n"
     ]
    }
   ],
   "source": [
    "c_int = np.arange(1, 20, 3, dtype=int)\n",
    "print(c_int)"
   ]
  },
  {
   "cell_type": "code",
   "execution_count": 12,
   "id": "fd26106e-7b61-4f80-83dc-ae1652861247",
   "metadata": {},
   "outputs": [
    {
     "name": "stdout",
     "output_type": "stream",
     "text": [
      "[0. 1. 2.]\n"
     ]
    }
   ],
   "source": [
    "b_float = np.arange(3, dtype=float)\n",
    "print(b_float)"
   ]
  },
  {
   "cell_type": "code",
   "execution_count": 13,
   "id": "3019bf6b-bdbb-41b1-b99a-ff8133477324",
   "metadata": {},
   "outputs": [
    {
     "name": "stdout",
     "output_type": "stream",
     "text": [
      "['Welcome to Math for ML!']\n",
      "<U23\n"
     ]
    }
   ],
   "source": [
    "char_arr = np.array(['Welcome to Math for ML!'])\n",
    "print(char_arr)\n",
    "print(char_arr.dtype) # Prints the data type of the array"
   ]
  },
  {
   "cell_type": "markdown",
   "id": "7bfb4393-06bd-45a6-a78e-f3a16d7e468f",
   "metadata": {},
   "source": [
    "Did you notice that the output of the data type of the `char_arr` array is `<U23`? \n",
    "This means that the string (`'Welcome to Math for ML!'`) is less than a 23-character (23) unicode string (`U`) on a little-endian architecture. You can learn more about data types [here](https://docs.scipy.org/doc/numpy-1.13.0/reference/arrays.dtypes.html)."
   ]
  },
  {
   "cell_type": "markdown",
   "id": "8d13a36f-503e-40af-9ab5-70dc2dec69aa",
   "metadata": {},
   "source": [
    "## More NumPy Arrays ##\n",
    "\n",
    "One of the advantages of using NumPy is that you can easily create arrays with built-in functions such as: \n",
    "- `numpy.ones()` - Returns a new array setting values to one.\n",
    "- `numpy.zeros()` - Returns a new array setting values to zero.\n",
    "- `numpy.empty()` - Returns a new uninitialized array. \n",
    "- `numpy.random.rand()` - Returns a new array with values chosen at random."
   ]
  },
  {
   "cell_type": "code",
   "execution_count": 14,
   "id": "167b00af-2f09-4812-8c67-e348c79484d9",
   "metadata": {},
   "outputs": [
    {
     "name": "stdout",
     "output_type": "stream",
     "text": [
      "[1. 1. 1.]\n"
     ]
    }
   ],
   "source": [
    "# Return a new array with 3 elements of 1. \n",
    "ones_arr = np.ones(3)\n",
    "print(ones_arr)"
   ]
  },
  {
   "cell_type": "code",
   "execution_count": 15,
   "id": "de5dbd50-06d5-4213-9f57-71b2717444a7",
   "metadata": {},
   "outputs": [
    {
     "name": "stdout",
     "output_type": "stream",
     "text": [
      "[0. 0. 0.]\n"
     ]
    }
   ],
   "source": [
    "# Return a new array with 3 elements of 0.\n",
    "zeros_arr = np.zeros(3)\n",
    "print(zeros_arr)"
   ]
  },
  {
   "cell_type": "code",
   "execution_count": 16,
   "id": "fbd2bb20-cfe8-4c8b-8777-49593649162c",
   "metadata": {},
   "outputs": [
    {
     "name": "stdout",
     "output_type": "stream",
     "text": [
      "[0. 0. 0.]\n"
     ]
    }
   ],
   "source": [
    "# Return a new array with 3 elements without initializing entries.\n",
    "empt_arr = np.empty(3)\n",
    "print(empt_arr)"
   ]
  },
  {
   "cell_type": "code",
   "execution_count": 17,
   "id": "56200128-58a2-4076-a57a-1b36c82f3174",
   "metadata": {},
   "outputs": [
    {
     "name": "stdout",
     "output_type": "stream",
     "text": [
      "[0.00219529 0.50090917 0.95975525]\n"
     ]
    }
   ],
   "source": [
    "# Return a new array with 3 elements between 0 and 1 chosen at random.\n",
    "rand_arr = np.random.rand(3)\n",
    "print(rand_arr)"
   ]
  },
  {
   "cell_type": "markdown",
   "id": "40963325-dc2c-4d96-b408-b24c610a2c7a",
   "metadata": {},
   "source": [
    "> Note: The difference between `numpy.zeros` and `numpy.empty` is that `numpy.empty` creates an array with uninitialized elements from available memory space, and `numpy.zeros` creates 0-initialized array. And maybe `numpy.empty` is faster to execute."
   ]
  },
  {
   "cell_type": "markdown",
   "id": "b33efec7-8c09-44d7-aa5e-046e7498f059",
   "metadata": {},
   "source": [
    "# Multidimensional Arrays #\n",
    "\n",
    "With NumPy you can also create arrays with more than one dimension. In the above examples, you encountered 1-D arrays, where you can access their elements using a single index. A multidimensional array has more than one column. Think of a multidimensional array as an excel sheet where each row/column represents a dimension.\n",
    "\n",
    "![Multi-Dimensional Arrays](../images/MultiDimensional_arrays.png)"
   ]
  },
  {
   "cell_type": "code",
   "execution_count": 18,
   "id": "01121445-e3ee-4fa1-a5fc-8b74623721c4",
   "metadata": {},
   "outputs": [
    {
     "name": "stdout",
     "output_type": "stream",
     "text": [
      "[[1 2 3]\n",
      " [4 5 6]]\n"
     ]
    }
   ],
   "source": [
    "# Create a 2 dimensional array (2-D)\n",
    "two_dim_arr = np.array([[1,2,3], [4,5,6]])\n",
    "print(two_dim_arr)"
   ]
  },
  {
   "cell_type": "markdown",
   "id": "dce899dd-a7a1-4692-9117-c1bf52b1bf80",
   "metadata": {},
   "source": [
    "An alternative way to create a multidimensional array is by reshaping the initial 1-D array. Using `numpy.reshape()` you can rearrange elements of the previous array into a new shape. "
   ]
  },
  {
   "cell_type": "code",
   "execution_count": 19,
   "id": "2bd9276e-18c9-4aaa-9f6a-d9eba701457a",
   "metadata": {},
   "outputs": [
    {
     "name": "stdout",
     "output_type": "stream",
     "text": [
      "[[1 2 3]\n",
      " [4 5 6]]\n"
     ]
    }
   ],
   "source": [
    "# 1-D array \n",
    "one_dim_arr = np.array([1, 2, 3, 4, 5, 6])\n",
    "\n",
    "# Multi-dimensional array using reshape()\n",
    "multi_dim_arr = np.reshape(\n",
    "                one_dim_arr, # the array to be reshaped\n",
    "               (2,3) # dimensions of the new array\n",
    "              )\n",
    "# Print the new 2-D array with two rows and three columns\n",
    "print(multi_dim_arr)"
   ]
  },
  {
   "cell_type": "markdown",
   "id": "d30b623c-cf45-4378-81b1-34c2af00de54",
   "metadata": {},
   "source": [
    "## Finding size, shape, dimension. ##"
   ]
  },
  {
   "cell_type": "markdown",
   "id": "06c87484-53c3-4a69-bd19-f869746348d4",
   "metadata": {},
   "source": [
    "In the future assignments, you will need to know how to find the size, dimension and shape of an array. Using the NumPy built-in functions you can easily identify the followings:\n",
    "- `ndarray.ndim()` - Returns the number of array dimensions. \n",
    "- `ndarray.shape()` - Returns the shape of the array. Each number in the tuple denotes the lengths of each corresponding dimension.\n",
    "- `ndarray.size()` - Counts the number of elements along a given axis. Returns the size of the array.\n"
   ]
  },
  {
   "cell_type": "code",
   "execution_count": 20,
   "id": "f6605294-8d90-4e48-a5b4-aebc30e1f147",
   "metadata": {},
   "outputs": [
    {
     "data": {
      "text/plain": [
       "2"
      ]
     },
     "execution_count": 20,
     "metadata": {},
     "output_type": "execute_result"
    }
   ],
   "source": [
    "# Dimension of the 2-D array multi_dim_arr\n",
    "multi_dim_arr.ndim"
   ]
  },
  {
   "cell_type": "code",
   "execution_count": 21,
   "id": "3275169a-a5f0-475c-bdab-e71d539110ed",
   "metadata": {},
   "outputs": [
    {
     "data": {
      "text/plain": [
       "(2, 3)"
      ]
     },
     "execution_count": 21,
     "metadata": {},
     "output_type": "execute_result"
    }
   ],
   "source": [
    "# Shape of the 2-D array multi_dim_arr\n",
    "# Returns shape of 2 rows and 3 columns\n",
    "multi_dim_arr.shape"
   ]
  },
  {
   "cell_type": "code",
   "execution_count": 22,
   "id": "4dd7778b-9d5a-4beb-8d87-d61867b4135f",
   "metadata": {},
   "outputs": [
    {
     "data": {
      "text/plain": [
       "6"
      ]
     },
     "execution_count": 22,
     "metadata": {},
     "output_type": "execute_result"
    }
   ],
   "source": [
    "# Size of the array multi_dim_arr\n",
    "# Returns total number of elements\n",
    "multi_dim_arr.size"
   ]
  },
  {
   "cell_type": "markdown",
   "id": "07dc3537-6446-4cb4-bf0e-86e394efe0db",
   "metadata": {},
   "source": [
    "# Array Math Operations #\n",
    "In this section, you will see that NumPy allows you to quickly perform elementwise addition, substraction, multiplication and division for both 1-D and multidimensional arrays, also known as matrices. The operations are done using the math symbol for each '+', '-', '*'. Recall that addition of python lists works completely differently as it would add (append) two lists together, thus making a longer list, while subtraction and multiplication of python lists do not work. "
   ]
  },
  {
   "cell_type": "code",
   "execution_count": 23,
   "id": "145dd58f-815f-462b-ae03-e13772c54e07",
   "metadata": {},
   "outputs": [
    {
     "name": "stdout",
     "output_type": "stream",
     "text": [
      "[ 3  7 11]\n",
      "[1 1 1]\n",
      "[ 2 12 30]\n"
     ]
    }
   ],
   "source": [
    "arr_1 = np.array([2, 4, 6])\n",
    "arr_2 = np.array([1, 3, 5])\n",
    "\n",
    "# Adding two 1-D arrays\n",
    "addition = arr_1 + arr_2\n",
    "print(addition)\n",
    "\n",
    "# Subtracting two 1-D arrays\n",
    "subtraction = arr_1 - arr_2\n",
    "print(subtraction)\n",
    "\n",
    "# Multiplying two 1-D arrays element by element\n",
    "multiplication = arr_1 * arr_2\n",
    "print(multiplication)"
   ]
  },
  {
   "cell_type": "markdown",
   "id": "98c7a392-3e01-4f12-b91a-0eba34553d65",
   "metadata": {},
   "source": [
    "## Multiplying vector with a scalar (broadcasting) ##\n",
    "Suppose you wanted to convert miles to kilometers using the NumPy array functions that you've learned so far. You can do this by carrying out an operation between an array (miles) and a single number (the conversion rate which is a scalar). Since, 1 mile = 1.6 km, NumPy computes each multiplication within each cell. \n",
    "\n",
    "This concept is called **broadcasting**, which allows you to perform operations specifically on arrays of different shapes. "
   ]
  },
  {
   "cell_type": "code",
   "execution_count": 24,
   "id": "5baf4f6f-9fd9-435a-bd90-81909e3aa45b",
   "metadata": {},
   "outputs": [
    {
     "data": {
      "text/plain": [
       "array([1.6, 3.2])"
      ]
     },
     "execution_count": 24,
     "metadata": {},
     "output_type": "execute_result"
    }
   ],
   "source": [
    "vector = np.array([1, 2])\n",
    "vector * 1.6"
   ]
  },
  {
   "cell_type": "markdown",
   "id": "caa01b7d-0a79-40c5-bd9e-58cdab1de6c4",
   "metadata": {},
   "source": [
    "![broadcasting](../images/broadcasting.png)"
   ]
  },
  {
   "cell_type": "markdown",
   "id": "95726a5f-30b1-4d1d-8d47-7c926bf2bff0",
   "metadata": {},
   "source": [
    "# Indexing and Slicing #\n",
    "Indexing is very useful as it allows you to select specific elements from an array. It also lets you select entire rows/columns or planes as you'll see in future assignments for multi-dimensional arrays. \n",
    "\n",
    "## Indexing ##\n",
    "Let us select specific elements from the arrays as given. "
   ]
  },
  {
   "cell_type": "code",
   "execution_count": 25,
   "id": "52baecf3-c80d-4a8a-b475-7947d3541664",
   "metadata": {},
   "outputs": [
    {
     "name": "stdout",
     "output_type": "stream",
     "text": [
      "3\n",
      "1\n"
     ]
    }
   ],
   "source": [
    "# Select the third element of the array. Remember the counting starts from 0.\n",
    "a = ([1, 2, 3, 4, 5])\n",
    "print(a[2])\n",
    "\n",
    "# Select the first element of the array.\n",
    "print(a[0])"
   ]
  },
  {
   "cell_type": "markdown",
   "id": "65b3c101-6322-46df-a417-3a16f413a05a",
   "metadata": {},
   "source": [
    "For multi-dimensional arrays, to index a specific element, think of two indices - i selects the row, and j selects the column."
   ]
  },
  {
   "cell_type": "code",
   "execution_count": 26,
   "id": "8937f17d-8ec6-4e0b-9752-0e887533991a",
   "metadata": {},
   "outputs": [
    {
     "name": "stdout",
     "output_type": "stream",
     "text": [
      "8\n"
     ]
    }
   ],
   "source": [
    "# Indexing on a 2-D array\n",
    "two_dim = np.array(([1, 2, 3],\n",
    "          [4, 5, 6], \n",
    "          [7, 8, 9]))\n",
    "\n",
    "# Select element number 8 from the 2-D array using indices i, j.\n",
    "print(two_dim[2][1])"
   ]
  },
  {
   "cell_type": "markdown",
   "id": "7de5c2d1-76e0-4c78-a16e-1571341ac5f9",
   "metadata": {},
   "source": [
    "## Slicing ##\n",
    "\n",
    "Slicing gives you a sublist of elements that you specify from the array. The slice notation specifies a start and end value, and copies the list from start up to but not including the end (end-exlusive). "
   ]
  },
  {
   "cell_type": "code",
   "execution_count": 27,
   "id": "bffcb881-ffd3-4e31-bb1f-2ac76cc5376c",
   "metadata": {},
   "outputs": [
    {
     "name": "stdout",
     "output_type": "stream",
     "text": [
      "[2, 3, 4]\n"
     ]
    }
   ],
   "source": [
    "# Slice the array a to give the output [2,3,4]\n",
    "sliced_arr = a[1:4]\n",
    "print(sliced_arr)"
   ]
  },
  {
   "cell_type": "code",
   "execution_count": 28,
   "id": "56c27e0e-1444-4808-9eca-491c76e04c13",
   "metadata": {},
   "outputs": [
    {
     "data": {
      "text/plain": [
       "array([[1, 2, 3],\n",
       "       [4, 5, 6]])"
      ]
     },
     "execution_count": 28,
     "metadata": {},
     "output_type": "execute_result"
    }
   ],
   "source": [
    "# Slice the two_dim array to output the first two rows\n",
    "sliced_arr_1 = two_dim[0:2]\n",
    "sliced_arr_1"
   ]
  },
  {
   "cell_type": "code",
   "execution_count": 29,
   "id": "62d59aa7-41bd-4869-a261-831094b9f653",
   "metadata": {},
   "outputs": [
    {
     "name": "stdout",
     "output_type": "stream",
     "text": [
      "[[4 5 6]\n",
      " [7 8 9]]\n"
     ]
    }
   ],
   "source": [
    "# Similarily, slice the multi-dimensional array two_dim to output the last two rows\n",
    "sliced_two_dim_rows = two_dim[1:4]\n",
    "print(sliced_two_dim_rows)"
   ]
  },
  {
   "cell_type": "code",
   "execution_count": 30,
   "id": "18e89721-439a-4572-bec4-cef84be596ee",
   "metadata": {},
   "outputs": [
    {
     "name": "stdout",
     "output_type": "stream",
     "text": [
      "[2 5 8]\n"
     ]
    }
   ],
   "source": [
    "sliced_two_dim_cols = two_dim[:,1]\n",
    "print(sliced_two_dim_cols)"
   ]
  },
  {
   "cell_type": "markdown",
   "id": "8ebcf73e-0e1f-4714-b831-3e59e3c53e2f",
   "metadata": {},
   "source": [
    "# Stacking #\n",
    "\n",
    "Finally, stacking is a feature of NumPy that leads to increased customization of arrays. It basically means to join two or more arrays, either horizontally or vertically, meaning that it is done along a new axis. \n",
    "\n",
    "- `vstack` - stacks vertically\n",
    "- `hstack` - stacks horizontally\n",
    "- `hsplit` - splits an array into several smaller arrays"
   ]
  },
  {
   "cell_type": "code",
   "execution_count": 31,
   "id": "b1554a13-f11e-4734-96f3-451eb29bb8b1",
   "metadata": {},
   "outputs": [
    {
     "name": "stdout",
     "output_type": "stream",
     "text": [
      "[[1 1]\n",
      " [2 2]]\n",
      "[[3 3]\n",
      " [4 4]]\n"
     ]
    }
   ],
   "source": [
    "a1 = np.array([[1,1], \n",
    "               [2,2]])\n",
    "a2 = np.array([[3,3],\n",
    "              [4,4]])\n",
    "print(a1)\n",
    "print(a2)"
   ]
  },
  {
   "cell_type": "code",
   "execution_count": 32,
   "id": "61469459-516d-4611-ac8f-0ad15c5b4815",
   "metadata": {},
   "outputs": [
    {
     "name": "stdout",
     "output_type": "stream",
     "text": [
      "[[1 1]\n",
      " [2 2]\n",
      " [3 3]\n",
      " [4 4]]\n"
     ]
    }
   ],
   "source": [
    "# Stack arrays vertically\n",
    "vert_stack = np.vstack((a1, a2))\n",
    "print(vert_stack)"
   ]
  },
  {
   "cell_type": "code",
   "execution_count": 33,
   "id": "c550fe03-3532-49d8-bea6-7ef0fdb6b3d3",
   "metadata": {},
   "outputs": [
    {
     "name": "stdout",
     "output_type": "stream",
     "text": [
      "[[1 1 3 3]\n",
      " [2 2 4 4]]\n"
     ]
    }
   ],
   "source": [
    "# Stack arrays horizontally\n",
    "horz_stack = np.hstack((a1, a2))\n",
    "print(horz_stack)"
   ]
  }
 ],
 "metadata": {
  "kernelspec": {
   "display_name": "Python 3",
   "language": "python",
   "name": "python3"
  },
  "language_info": {
   "codemirror_mode": {
    "name": "ipython",
    "version": 3
   },
   "file_extension": ".py",
   "mimetype": "text/x-python",
   "name": "python",
   "nbconvert_exporter": "python",
   "pygments_lexer": "ipython3",
   "version": "3.7.10"
  }
 },
 "nbformat": 4,
 "nbformat_minor": 5
}
